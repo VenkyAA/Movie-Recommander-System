{
  "cells": [
    {
      "cell_type": "code",
      "source": [
        "from flask import Flask,request\n",
        "from flask_restful import Resource, Api\n",
        "import pickle\n",
        "import pandas as pd\n",
        "from flask_cors import CORS\n",
        "\n",
        "\n",
        "\n",
        "app = Flask(__name__)\n",
        "#\n",
        "CORS(app)\n",
        "# creating an API object\n",
        "api = Api(app)\n",
        "\n",
        "#prediction api call\n",
        "class prediction(Resource):\n",
        "    def get(self,movie_user):\n",
        "        #movie_user = request.args.get('movie_user')\n",
        "        print(movie_user)\n",
        "        # Let's load the package\n",
        "        movie_user = [int(movie_user)]\n",
        "        df = pd.DataFrame(movie_user, columns=['userId'])\n",
        "        model = pickle.load(open('model.pkl', 'rb'))\n",
        "        prediction = model.predict(df)\n",
        "        prediction = int(prediction[0])\n",
        "        return str(prediction)\n",
        "\n",
        "#data api\n",
        "class getData(Resource):\n",
        "    def get(self):\n",
        "            df1 = pd.read_excel('movies.csv')\n",
        "            # df2 = pd.read_csv('ratings.csv')\n",
        "            #print(df.head())\n",
        "            #out = {'key':str}\n",
        "            res = df1.to_json(orient='records')\n",
        "            #print( res)\n",
        "            return res\n",
        "\n",
        "#\n",
        "api.add_resource(getData, '/api')\n",
        "api.add_resource(prediction, '/prediction/<int:movie_user>')\n",
        "\n",
        "if __name__ == '__main__':\n",
        "    app.run(debug=True)"
      ],
      "outputs": [],
      "execution_count": null,
      "metadata": {
        "jupyter": {
          "source_hidden": false,
          "outputs_hidden": false
        },
        "nteract": {
          "transient": {
            "deleting": false
          }
        }
      }
    }
  ],
  "metadata": {
    "kernelspec": {
      "display_name": "Python 3",
      "language": "python",
      "name": "python3"
    },
    "language_info": {
      "codemirror_mode": {
        "name": "ipython",
        "version": 3
      },
      "file_extension": ".py",
      "mimetype": "text/x-python",
      "name": "python",
      "nbconvert_exporter": "python",
      "pygments_lexer": "ipython3",
      "version": null
    },
    "microsoft": {
      "language": "python"
    },
    "nteract": {
      "version": "nteract-front-end@1.0.0"
    }
  },
  "nbformat": 4,
  "nbformat_minor": 0
}