{
  "cells": [
    {
      "cell_type": "code",
      "source": [
        "import pandas as pd\n",
        "import numpy as np\n",
        "import matplotlib.pyplot as plt"
      ],
      "outputs": [],
      "execution_count": 116,
      "metadata": {},
      "id": "e5ff363b"
    },
    {
      "cell_type": "markdown",
      "source": [
        "### Metadata of movielens"
      ],
      "metadata": {},
      "id": "0f6149a4"
    },
    {
      "cell_type": "markdown",
      "source": [
        "The movielens dataset contains several pieces of information about movies taken from http://movielens.org, a movie recommendation service. The dataset contains 4 separate csv files:\n",
        "\n",
        "1. links.csv: which contains the ID of a given movie on imdb and themoviedb\n",
        "2. tags.csv: which contains user given tags for a specific movie\n",
        "3. movies.csv: which contains the name of a movie ID along with the genres that the movie belongs to\n",
        "4. ratings.csv: which contains the ratings given by users to a specific movie"
      ],
      "metadata": {},
      "id": "5fbcca02"
    },
    {
      "cell_type": "markdown",
      "source": [
        "### Objective of the Project:"
      ],
      "metadata": {},
      "id": "79fdb8d5"
    },
    {
      "cell_type": "markdown",
      "source": [
        "### The movielens project is aimed at creating recommendation system using the datasets containing in the folder for training of the algorithms, movie ratings prediction and suggesting good and quality films for movie lovers."
      ],
      "metadata": {},
      "id": "dc4439be"
    },
    {
      "cell_type": "markdown",
      "source": [
        "### Libraries used:"
      ],
      "metadata": {},
      "id": "e9ebbc0e"
    },
    {
      "cell_type": "markdown",
      "source": [
        "1. Pandas for reading the file, dataframe creation, data manipulation, preprocessing, exploratory analysis\n",
        "2. Numpy for carrying out mathematical operations\n",
        "3. Matplotlib and Seaborn for data visualization through graphs, plots etc."
      ],
      "metadata": {},
      "id": "065c9aef"
    },
    {
      "cell_type": "markdown",
      "source": [
        "### Ratings dataset"
      ],
      "metadata": {},
      "id": "5202a59a"
    },
    {
      "cell_type": "code",
      "source": [
        "ratings = pd.read_csv(\"ratings.csv\")\n",
        "ratings.head()"
      ],
      "outputs": [
        {
          "output_type": "execute_result",
          "execution_count": 117,
          "data": {
            "text/html": "<div>\n<style scoped>\n    .dataframe tbody tr th:only-of-type {\n        vertical-align: middle;\n    }\n\n    .dataframe tbody tr th {\n        vertical-align: top;\n    }\n\n    .dataframe thead th {\n        text-align: right;\n    }\n</style>\n<table border=\"1\" class=\"dataframe\">\n  <thead>\n    <tr style=\"text-align: right;\">\n      <th></th>\n      <th>userId</th>\n      <th>movieId</th>\n      <th>rating</th>\n      <th>timestamp</th>\n    </tr>\n  </thead>\n  <tbody>\n    <tr>\n      <th>0</th>\n      <td>1</td>\n      <td>1</td>\n      <td>4.0</td>\n      <td>964982703</td>\n    </tr>\n    <tr>\n      <th>1</th>\n      <td>1</td>\n      <td>3</td>\n      <td>4.0</td>\n      <td>964981247</td>\n    </tr>\n    <tr>\n      <th>2</th>\n      <td>1</td>\n      <td>6</td>\n      <td>4.0</td>\n      <td>964982224</td>\n    </tr>\n    <tr>\n      <th>3</th>\n      <td>1</td>\n      <td>47</td>\n      <td>5.0</td>\n      <td>964983815</td>\n    </tr>\n    <tr>\n      <th>4</th>\n      <td>1</td>\n      <td>50</td>\n      <td>5.0</td>\n      <td>964982931</td>\n    </tr>\n  </tbody>\n</table>\n</div>",
            "text/plain": "   userId  movieId  rating  timestamp\n0       1        1     4.0  964982703\n1       1        3     4.0  964981247\n2       1        6     4.0  964982224\n3       1       47     5.0  964983815\n4       1       50     5.0  964982931"
          },
          "metadata": {}
        }
      ],
      "execution_count": 117,
      "metadata": {
        "scrolled": true
      },
      "id": "31f309b0"
    },
    {
      "cell_type": "markdown",
      "source": [
        "### Movies dataset"
      ],
      "metadata": {},
      "id": "8d0c1210"
    },
    {
      "cell_type": "code",
      "source": [
        "movies = pd.read_csv(\"movies.csv\")\n",
        "movies.head()"
      ],
      "outputs": [
        {
          "output_type": "execute_result",
          "execution_count": 118,
          "data": {
            "text/html": "<div>\n<style scoped>\n    .dataframe tbody tr th:only-of-type {\n        vertical-align: middle;\n    }\n\n    .dataframe tbody tr th {\n        vertical-align: top;\n    }\n\n    .dataframe thead th {\n        text-align: right;\n    }\n</style>\n<table border=\"1\" class=\"dataframe\">\n  <thead>\n    <tr style=\"text-align: right;\">\n      <th></th>\n      <th>movieId</th>\n      <th>title</th>\n      <th>genres</th>\n    </tr>\n  </thead>\n  <tbody>\n    <tr>\n      <th>0</th>\n      <td>1</td>\n      <td>Toy Story (1995)</td>\n      <td>Adventure|Animation|Children|Comedy|Fantasy</td>\n    </tr>\n    <tr>\n      <th>1</th>\n      <td>2</td>\n      <td>Jumanji (1995)</td>\n      <td>Adventure|Children|Fantasy</td>\n    </tr>\n    <tr>\n      <th>2</th>\n      <td>3</td>\n      <td>Grumpier Old Men (1995)</td>\n      <td>Comedy|Romance</td>\n    </tr>\n    <tr>\n      <th>3</th>\n      <td>4</td>\n      <td>Waiting to Exhale (1995)</td>\n      <td>Comedy|Drama|Romance</td>\n    </tr>\n    <tr>\n      <th>4</th>\n      <td>5</td>\n      <td>Father of the Bride Part II (1995)</td>\n      <td>Comedy</td>\n    </tr>\n  </tbody>\n</table>\n</div>",
            "text/plain": "   movieId                               title  \\\n0        1                    Toy Story (1995)   \n1        2                      Jumanji (1995)   \n2        3             Grumpier Old Men (1995)   \n3        4            Waiting to Exhale (1995)   \n4        5  Father of the Bride Part II (1995)   \n\n                                        genres  \n0  Adventure|Animation|Children|Comedy|Fantasy  \n1                   Adventure|Children|Fantasy  \n2                               Comedy|Romance  \n3                         Comedy|Drama|Romance  \n4                                       Comedy  "
          },
          "metadata": {}
        }
      ],
      "execution_count": 118,
      "metadata": {},
      "id": "ed678270"
    },
    {
      "cell_type": "markdown",
      "source": [
        "### Merging Ratings and Movies dataset into one"
      ],
      "metadata": {},
      "id": "d65bbde8"
    },
    {
      "cell_type": "code",
      "source": [
        "ratings = ratings.merge(movies,on='movieId',how='left')\n",
        "ratings.head()"
      ],
      "outputs": [
        {
          "output_type": "execute_result",
          "execution_count": 119,
          "data": {
            "text/html": "<div>\n<style scoped>\n    .dataframe tbody tr th:only-of-type {\n        vertical-align: middle;\n    }\n\n    .dataframe tbody tr th {\n        vertical-align: top;\n    }\n\n    .dataframe thead th {\n        text-align: right;\n    }\n</style>\n<table border=\"1\" class=\"dataframe\">\n  <thead>\n    <tr style=\"text-align: right;\">\n      <th></th>\n      <th>userId</th>\n      <th>movieId</th>\n      <th>rating</th>\n      <th>timestamp</th>\n      <th>title</th>\n      <th>genres</th>\n    </tr>\n  </thead>\n  <tbody>\n    <tr>\n      <th>0</th>\n      <td>1</td>\n      <td>1</td>\n      <td>4.0</td>\n      <td>964982703</td>\n      <td>Toy Story (1995)</td>\n      <td>Adventure|Animation|Children|Comedy|Fantasy</td>\n    </tr>\n    <tr>\n      <th>1</th>\n      <td>1</td>\n      <td>3</td>\n      <td>4.0</td>\n      <td>964981247</td>\n      <td>Grumpier Old Men (1995)</td>\n      <td>Comedy|Romance</td>\n    </tr>\n    <tr>\n      <th>2</th>\n      <td>1</td>\n      <td>6</td>\n      <td>4.0</td>\n      <td>964982224</td>\n      <td>Heat (1995)</td>\n      <td>Action|Crime|Thriller</td>\n    </tr>\n    <tr>\n      <th>3</th>\n      <td>1</td>\n      <td>47</td>\n      <td>5.0</td>\n      <td>964983815</td>\n      <td>Seven (a.k.a. Se7en) (1995)</td>\n      <td>Mystery|Thriller</td>\n    </tr>\n    <tr>\n      <th>4</th>\n      <td>1</td>\n      <td>50</td>\n      <td>5.0</td>\n      <td>964982931</td>\n      <td>Usual Suspects, The (1995)</td>\n      <td>Crime|Mystery|Thriller</td>\n    </tr>\n  </tbody>\n</table>\n</div>",
            "text/plain": "   userId  movieId  rating  timestamp                        title  \\\n0       1        1     4.0  964982703             Toy Story (1995)   \n1       1        3     4.0  964981247      Grumpier Old Men (1995)   \n2       1        6     4.0  964982224                  Heat (1995)   \n3       1       47     5.0  964983815  Seven (a.k.a. Se7en) (1995)   \n4       1       50     5.0  964982931   Usual Suspects, The (1995)   \n\n                                        genres  \n0  Adventure|Animation|Children|Comedy|Fantasy  \n1                               Comedy|Romance  \n2                        Action|Crime|Thriller  \n3                             Mystery|Thriller  \n4                       Crime|Mystery|Thriller  "
          },
          "metadata": {}
        }
      ],
      "execution_count": 119,
      "metadata": {
        "scrolled": true
      },
      "id": "348a2627"
    },
    {
      "cell_type": "markdown",
      "source": [
        "### Finding out the non-null value count and the datatype of each column"
      ],
      "metadata": {},
      "id": "1e55556f"
    },
    {
      "cell_type": "code",
      "source": [
        "ratings.info()"
      ],
      "outputs": [
        {
          "output_type": "stream",
          "name": "stdout",
          "text": "<class 'pandas.core.frame.DataFrame'>\nInt64Index: 100836 entries, 0 to 100835\nData columns (total 6 columns):\n #   Column     Non-Null Count   Dtype  \n---  ------     --------------   -----  \n 0   userId     100836 non-null  int64  \n 1   movieId    100836 non-null  int64  \n 2   rating     100836 non-null  float64\n 3   timestamp  100836 non-null  int64  \n 4   title      100836 non-null  object \n 5   genres     100836 non-null  object \ndtypes: float64(1), int64(3), object(2)\nmemory usage: 5.4+ MB\n"
        }
      ],
      "execution_count": 120,
      "metadata": {},
      "id": "3510715c"
    },
    {
      "cell_type": "code",
      "source": [
        "ratings.isnull().sum()"
      ],
      "outputs": [
        {
          "output_type": "execute_result",
          "execution_count": 121,
          "data": {
            "text/plain": "userId       0\nmovieId      0\nrating       0\ntimestamp    0\ntitle        0\ngenres       0\ndtype: int64"
          },
          "metadata": {}
        }
      ],
      "execution_count": 121,
      "metadata": {},
      "id": "b715fb2d"
    },
    {
      "cell_type": "code",
      "source": [
        "neg_values = ratings['movieId'].values<0\n",
        "neg_values = pd.DataFrame(neg_values)\n",
        "neg_values.count()"
      ],
      "outputs": [
        {
          "output_type": "execute_result",
          "execution_count": 122,
          "data": {
            "text/plain": "0    100836\ndtype: int64"
          },
          "metadata": {}
        }
      ],
      "execution_count": 122,
      "metadata": {},
      "id": "3f751463"
    },
    {
      "cell_type": "markdown",
      "source": [
        "### As there are no null values and negative values, we can proceed to exploratory analysis"
      ],
      "metadata": {},
      "id": "020a0409"
    },
    {
      "cell_type": "code",
      "source": [
        "ratings.drop(columns=['timestamp'],inplace=True)"
      ],
      "outputs": [],
      "execution_count": 123,
      "metadata": {},
      "id": "f5e9005c"
    },
    {
      "cell_type": "markdown",
      "source": [
        "### Creating a new column which specifies the year in the movie released"
      ],
      "metadata": {},
      "id": "c7d0856b"
    },
    {
      "cell_type": "code",
      "source": [
        "ratings['Year'] = ratings['title'].str.extract('.*\\((.*)\\).*',expand = False)"
      ],
      "outputs": [],
      "execution_count": 124,
      "metadata": {},
      "id": "2d5dc8b4"
    },
    {
      "cell_type": "code",
      "source": [
        "ratings"
      ],
      "outputs": [
        {
          "output_type": "execute_result",
          "execution_count": 125,
          "data": {
            "text/html": "<div>\n<style scoped>\n    .dataframe tbody tr th:only-of-type {\n        vertical-align: middle;\n    }\n\n    .dataframe tbody tr th {\n        vertical-align: top;\n    }\n\n    .dataframe thead th {\n        text-align: right;\n    }\n</style>\n<table border=\"1\" class=\"dataframe\">\n  <thead>\n    <tr style=\"text-align: right;\">\n      <th></th>\n      <th>userId</th>\n      <th>movieId</th>\n      <th>rating</th>\n      <th>title</th>\n      <th>genres</th>\n      <th>Year</th>\n    </tr>\n  </thead>\n  <tbody>\n    <tr>\n      <th>0</th>\n      <td>1</td>\n      <td>1</td>\n      <td>4.0</td>\n      <td>Toy Story (1995)</td>\n      <td>Adventure|Animation|Children|Comedy|Fantasy</td>\n      <td>1995</td>\n    </tr>\n    <tr>\n      <th>1</th>\n      <td>1</td>\n      <td>3</td>\n      <td>4.0</td>\n      <td>Grumpier Old Men (1995)</td>\n      <td>Comedy|Romance</td>\n      <td>1995</td>\n    </tr>\n    <tr>\n      <th>2</th>\n      <td>1</td>\n      <td>6</td>\n      <td>4.0</td>\n      <td>Heat (1995)</td>\n      <td>Action|Crime|Thriller</td>\n      <td>1995</td>\n    </tr>\n    <tr>\n      <th>3</th>\n      <td>1</td>\n      <td>47</td>\n      <td>5.0</td>\n      <td>Seven (a.k.a. Se7en) (1995)</td>\n      <td>Mystery|Thriller</td>\n      <td>1995</td>\n    </tr>\n    <tr>\n      <th>4</th>\n      <td>1</td>\n      <td>50</td>\n      <td>5.0</td>\n      <td>Usual Suspects, The (1995)</td>\n      <td>Crime|Mystery|Thriller</td>\n      <td>1995</td>\n    </tr>\n    <tr>\n      <th>...</th>\n      <td>...</td>\n      <td>...</td>\n      <td>...</td>\n      <td>...</td>\n      <td>...</td>\n      <td>...</td>\n    </tr>\n    <tr>\n      <th>100831</th>\n      <td>610</td>\n      <td>166534</td>\n      <td>4.0</td>\n      <td>Split (2017)</td>\n      <td>Drama|Horror|Thriller</td>\n      <td>2017</td>\n    </tr>\n    <tr>\n      <th>100832</th>\n      <td>610</td>\n      <td>168248</td>\n      <td>5.0</td>\n      <td>John Wick: Chapter Two (2017)</td>\n      <td>Action|Crime|Thriller</td>\n      <td>2017</td>\n    </tr>\n    <tr>\n      <th>100833</th>\n      <td>610</td>\n      <td>168250</td>\n      <td>5.0</td>\n      <td>Get Out (2017)</td>\n      <td>Horror</td>\n      <td>2017</td>\n    </tr>\n    <tr>\n      <th>100834</th>\n      <td>610</td>\n      <td>168252</td>\n      <td>5.0</td>\n      <td>Logan (2017)</td>\n      <td>Action|Sci-Fi</td>\n      <td>2017</td>\n    </tr>\n    <tr>\n      <th>100835</th>\n      <td>610</td>\n      <td>170875</td>\n      <td>3.0</td>\n      <td>The Fate of the Furious (2017)</td>\n      <td>Action|Crime|Drama|Thriller</td>\n      <td>2017</td>\n    </tr>\n  </tbody>\n</table>\n<p>100836 rows × 6 columns</p>\n</div>",
            "text/plain": "        userId  movieId  rating                           title  \\\n0            1        1     4.0                Toy Story (1995)   \n1            1        3     4.0         Grumpier Old Men (1995)   \n2            1        6     4.0                     Heat (1995)   \n3            1       47     5.0     Seven (a.k.a. Se7en) (1995)   \n4            1       50     5.0      Usual Suspects, The (1995)   \n...        ...      ...     ...                             ...   \n100831     610   166534     4.0                    Split (2017)   \n100832     610   168248     5.0   John Wick: Chapter Two (2017)   \n100833     610   168250     5.0                  Get Out (2017)   \n100834     610   168252     5.0                    Logan (2017)   \n100835     610   170875     3.0  The Fate of the Furious (2017)   \n\n                                             genres  Year  \n0       Adventure|Animation|Children|Comedy|Fantasy  1995  \n1                                    Comedy|Romance  1995  \n2                             Action|Crime|Thriller  1995  \n3                                  Mystery|Thriller  1995  \n4                            Crime|Mystery|Thriller  1995  \n...                                             ...   ...  \n100831                        Drama|Horror|Thriller  2017  \n100832                        Action|Crime|Thriller  2017  \n100833                                       Horror  2017  \n100834                                Action|Sci-Fi  2017  \n100835                  Action|Crime|Drama|Thriller  2017  \n\n[100836 rows x 6 columns]"
          },
          "metadata": {}
        }
      ],
      "execution_count": 125,
      "metadata": {},
      "id": "e32b1ab2"
    },
    {
      "cell_type": "markdown",
      "source": [
        "### Counting the number of films released in each year"
      ],
      "metadata": {},
      "id": "5dc197ee"
    },
    {
      "cell_type": "code",
      "source": [
        "count_per_year = ratings['Year'].value_counts()\n",
        "count_per_year = pd.DataFrame(count_per_year)\n",
        "count_per_year"
      ],
      "outputs": [
        {
          "output_type": "execute_result",
          "execution_count": 126,
          "data": {
            "text/html": "<div>\n<style scoped>\n    .dataframe tbody tr th:only-of-type {\n        vertical-align: middle;\n    }\n\n    .dataframe tbody tr th {\n        vertical-align: top;\n    }\n\n    .dataframe thead th {\n        text-align: right;\n    }\n</style>\n<table border=\"1\" class=\"dataframe\">\n  <thead>\n    <tr style=\"text-align: right;\">\n      <th></th>\n      <th>Year</th>\n    </tr>\n  </thead>\n  <tbody>\n    <tr>\n      <th>1995</th>\n      <td>6144</td>\n    </tr>\n    <tr>\n      <th>1994</th>\n      <td>5296</td>\n    </tr>\n    <tr>\n      <th>1999</th>\n      <td>4536</td>\n    </tr>\n    <tr>\n      <th>1996</th>\n      <td>4509</td>\n    </tr>\n    <tr>\n      <th>2000</th>\n      <td>4268</td>\n    </tr>\n    <tr>\n      <th>...</th>\n      <td>...</td>\n    </tr>\n    <tr>\n      <th>1917</th>\n      <td>1</td>\n    </tr>\n    <tr>\n      <th>2006–2007</th>\n      <td>1</td>\n    </tr>\n    <tr>\n      <th>1908</th>\n      <td>1</td>\n    </tr>\n    <tr>\n      <th>1915</th>\n      <td>1</td>\n    </tr>\n    <tr>\n      <th>1919</th>\n      <td>1</td>\n    </tr>\n  </tbody>\n</table>\n<p>107 rows × 1 columns</p>\n</div>",
            "text/plain": "           Year\n1995       6144\n1994       5296\n1999       4536\n1996       4509\n2000       4268\n...         ...\n1917          1\n2006–2007     1\n1908          1\n1915          1\n1919          1\n\n[107 rows x 1 columns]"
          },
          "metadata": {}
        }
      ],
      "execution_count": 126,
      "metadata": {},
      "id": "0f6d609d"
    },
    {
      "cell_type": "markdown",
      "source": [
        "### Bar plot showing the number of films released in the first 10 years present in the above dataframe"
      ],
      "metadata": {},
      "id": "14c14975"
    },
    {
      "cell_type": "code",
      "source": [
        "plt.bar(count_per_year.head(10).index,count_per_year.head(10).Year,color='b')"
      ],
      "outputs": [
        {
          "output_type": "execute_result",
          "execution_count": 127,
          "data": {
            "text/plain": "<BarContainer object of 10 artists>"
          },
          "metadata": {}
        },
        {
          "output_type": "display_data",
          "data": {
            "image/png": "[encoded data removed]",
            "text/plain": "<Figure size 432x288 with 1 Axes>"
          },
          "metadata": {
            "needs_background": "light"
          }
        }
      ],
      "execution_count": 127,
      "metadata": {},
      "id": "9dac64ed"
    },
    {
      "cell_type": "markdown",
      "source": [
        "### Statistics of each numeric column in the dataframe"
      ],
      "metadata": {},
      "id": "dd902253"
    },
    {
      "cell_type": "code",
      "source": [
        "ratings.describe()"
      ],
      "outputs": [
        {
          "output_type": "execute_result",
          "execution_count": 128,
          "data": {
            "text/html": "<div>\n<style scoped>\n    .dataframe tbody tr th:only-of-type {\n        vertical-align: middle;\n    }\n\n    .dataframe tbody tr th {\n        vertical-align: top;\n    }\n\n    .dataframe thead th {\n        text-align: right;\n    }\n</style>\n<table border=\"1\" class=\"dataframe\">\n  <thead>\n    <tr style=\"text-align: right;\">\n      <th></th>\n      <th>userId</th>\n      <th>movieId</th>\n      <th>rating</th>\n    </tr>\n  </thead>\n  <tbody>\n    <tr>\n      <th>count</th>\n      <td>100836.000000</td>\n      <td>100836.000000</td>\n      <td>100836.000000</td>\n    </tr>\n    <tr>\n      <th>mean</th>\n      <td>326.127564</td>\n      <td>19435.295718</td>\n      <td>3.501557</td>\n    </tr>\n    <tr>\n      <th>std</th>\n      <td>182.618491</td>\n      <td>35530.987199</td>\n      <td>1.042529</td>\n    </tr>\n    <tr>\n      <th>min</th>\n      <td>1.000000</td>\n      <td>1.000000</td>\n      <td>0.500000</td>\n    </tr>\n    <tr>\n      <th>25%</th>\n      <td>177.000000</td>\n      <td>1199.000000</td>\n      <td>3.000000</td>\n    </tr>\n    <tr>\n      <th>50%</th>\n      <td>325.000000</td>\n      <td>2991.000000</td>\n      <td>3.500000</td>\n    </tr>\n    <tr>\n      <th>75%</th>\n      <td>477.000000</td>\n      <td>8122.000000</td>\n      <td>4.000000</td>\n    </tr>\n    <tr>\n      <th>max</th>\n      <td>610.000000</td>\n      <td>193609.000000</td>\n      <td>5.000000</td>\n    </tr>\n  </tbody>\n</table>\n</div>",
            "text/plain": "              userId        movieId         rating\ncount  100836.000000  100836.000000  100836.000000\nmean      326.127564   19435.295718       3.501557\nstd       182.618491   35530.987199       1.042529\nmin         1.000000       1.000000       0.500000\n25%       177.000000    1199.000000       3.000000\n50%       325.000000    2991.000000       3.500000\n75%       477.000000    8122.000000       4.000000\nmax       610.000000  193609.000000       5.000000"
          },
          "metadata": {}
        }
      ],
      "execution_count": 128,
      "metadata": {},
      "id": "97e89b97"
    },
    {
      "cell_type": "markdown",
      "source": [
        "### Plotting the number of films released in each genre"
      ],
      "metadata": {},
      "id": "767e9884"
    },
    {
      "cell_type": "code",
      "source": [
        "plt.figure(figsize=(20,7))\n",
        "genre_list = ratings['genres'].apply(lambda i : str(i).split(\"|\"))\n",
        "count={}\n",
        "for i in genre_list:\n",
        "    for j in i:\n",
        "        if(count.get(j,False)):\n",
        "            count[j]=count[j]+1\n",
        "        else:\n",
        "            count[j] = 1      \n",
        "count.pop(\"(no genres listed)\")\n",
        "plt.bar(count.keys(),count.values(),color='y')"
      ],
      "outputs": [
        {
          "output_type": "execute_result",
          "execution_count": 129,
          "data": {
            "text/plain": "<BarContainer object of 19 artists>"
          },
          "metadata": {}
        },
        {
          "output_type": "display_data",
          "data": {
            "image/png": "[encoded data removed]",
            "text/plain": "<Figure size 1440x504 with 1 Axes>"
          },
          "metadata": {
            "needs_background": "light"
          }
        }
      ],
      "execution_count": 129,
      "metadata": {},
      "id": "1c002013"
    },
    {
      "cell_type": "markdown",
      "source": [
        "### Frequency distribution of ratings"
      ],
      "metadata": {},
      "id": "f61ea1e8"
    },
    {
      "cell_type": "code",
      "source": [
        "plt.hist(ratings.rating, color='c')"
      ],
      "outputs": [
        {
          "output_type": "execute_result",
          "execution_count": 130,
          "data": {
            "text/plain": "(array([ 1370.,  2811.,  1791.,  7551.,  5550., 20047., 13136., 26818.,\n         8551., 13211.]),\n array([0.5 , 0.95, 1.4 , 1.85, 2.3 , 2.75, 3.2 , 3.65, 4.1 , 4.55, 5.  ]),\n <BarContainer object of 10 artists>)"
          },
          "metadata": {}
        },
        {
          "output_type": "display_data",
          "data": {
            "image/png": "[encoded data removed]",
            "text/plain": "<Figure size 432x288 with 1 Axes>"
          },
          "metadata": {
            "needs_background": "light"
          }
        }
      ],
      "execution_count": 130,
      "metadata": {},
      "id": "8aac4ca6"
    },
    {
      "cell_type": "markdown",
      "source": [
        "### Finding out the number of reviews given by each user and the mean rating given by each"
      ],
      "metadata": {},
      "id": "d31f4190"
    },
    {
      "cell_type": "code",
      "source": [
        "rating_stat = ratings.groupby('userId').agg([np.size,np.mean])\n",
        "rating_stat"
      ],
      "outputs": [
        {
          "output_type": "execute_result",
          "execution_count": 131,
          "data": {
            "text/html": "<div>\n<style scoped>\n    .dataframe tbody tr th:only-of-type {\n        vertical-align: middle;\n    }\n\n    .dataframe tbody tr th {\n        vertical-align: top;\n    }\n\n    .dataframe thead tr th {\n        text-align: left;\n    }\n\n    .dataframe thead tr:last-of-type th {\n        text-align: right;\n    }\n</style>\n<table border=\"1\" class=\"dataframe\">\n  <thead>\n    <tr>\n      <th></th>\n      <th colspan=\"2\" halign=\"left\">movieId</th>\n      <th colspan=\"2\" halign=\"left\">rating</th>\n    </tr>\n    <tr>\n      <th></th>\n      <th>size</th>\n      <th>mean</th>\n      <th>size</th>\n      <th>mean</th>\n    </tr>\n    <tr>\n      <th>userId</th>\n      <th></th>\n      <th></th>\n      <th></th>\n      <th></th>\n    </tr>\n  </thead>\n  <tbody>\n    <tr>\n      <th>1</th>\n      <td>232</td>\n      <td>1854.603448</td>\n      <td>232.0</td>\n      <td>4.366379</td>\n    </tr>\n    <tr>\n      <th>2</th>\n      <td>29</td>\n      <td>70350.275862</td>\n      <td>29.0</td>\n      <td>3.948276</td>\n    </tr>\n    <tr>\n      <th>3</th>\n      <td>39</td>\n      <td>7058.384615</td>\n      <td>39.0</td>\n      <td>2.435897</td>\n    </tr>\n    <tr>\n      <th>4</th>\n      <td>216</td>\n      <td>1982.129630</td>\n      <td>216.0</td>\n      <td>3.555556</td>\n    </tr>\n    <tr>\n      <th>5</th>\n      <td>44</td>\n      <td>343.840909</td>\n      <td>44.0</td>\n      <td>3.636364</td>\n    </tr>\n    <tr>\n      <th>...</th>\n      <td>...</td>\n      <td>...</td>\n      <td>...</td>\n      <td>...</td>\n    </tr>\n    <tr>\n      <th>606</th>\n      <td>1115</td>\n      <td>9692.197309</td>\n      <td>1115.0</td>\n      <td>3.657399</td>\n    </tr>\n    <tr>\n      <th>607</th>\n      <td>187</td>\n      <td>1860.636364</td>\n      <td>187.0</td>\n      <td>3.786096</td>\n    </tr>\n    <tr>\n      <th>608</th>\n      <td>831</td>\n      <td>4502.605295</td>\n      <td>831.0</td>\n      <td>3.134176</td>\n    </tr>\n    <tr>\n      <th>609</th>\n      <td>37</td>\n      <td>483.162162</td>\n      <td>37.0</td>\n      <td>3.270270</td>\n    </tr>\n    <tr>\n      <th>610</th>\n      <td>1302</td>\n      <td>49590.231183</td>\n      <td>1302.0</td>\n      <td>3.688556</td>\n    </tr>\n  </tbody>\n</table>\n<p>610 rows × 4 columns</p>\n</div>",
            "text/plain": "       movieId                rating          \n          size          mean    size      mean\nuserId                                        \n1          232   1854.603448   232.0  4.366379\n2           29  70350.275862    29.0  3.948276\n3           39   7058.384615    39.0  2.435897\n4          216   1982.129630   216.0  3.555556\n5           44    343.840909    44.0  3.636364\n...        ...           ...     ...       ...\n606       1115   9692.197309  1115.0  3.657399\n607        187   1860.636364   187.0  3.786096\n608        831   4502.605295   831.0  3.134176\n609         37    483.162162    37.0  3.270270\n610       1302  49590.231183  1302.0  3.688556\n\n[610 rows x 4 columns]"
          },
          "metadata": {}
        }
      ],
      "execution_count": 131,
      "metadata": {
        "scrolled": true
      },
      "id": "e8b13888"
    },
    {
      "cell_type": "markdown",
      "source": [
        "### Bar plot which showcases the number of reviews given by the top 10 users"
      ],
      "metadata": {},
      "id": "3d43322b"
    },
    {
      "cell_type": "code",
      "source": [
        "rating_stat['rating']['size'].sort_values(ascending=False).head(10).plot(kind='bar', figsize=(10,5))"
      ],
      "outputs": [
        {
          "output_type": "execute_result",
          "execution_count": 132,
          "data": {
            "text/plain": "<AxesSubplot:xlabel='userId'>"
          },
          "metadata": {}
        },
        {
          "output_type": "display_data",
          "data": {
            "image/png": "[encoded data removed]",
            "text/plain": "<Figure size 720x360 with 1 Axes>"
          },
          "metadata": {
            "needs_background": "light"
          }
        }
      ],
      "execution_count": 132,
      "metadata": {},
      "id": "75d5c92a"
    },
    {
      "cell_type": "markdown",
      "source": [
        "### Average Rating received by the movie"
      ],
      "metadata": {},
      "id": "5ebc84b9"
    },
    {
      "cell_type": "code",
      "source": [
        "Average_rating = ratings.groupby('title')['rating'].mean()\n",
        "Average_rating = pd.DataFrame(Average_rating)\n",
        "Average_rating.head(10)"
      ],
      "outputs": [
        {
          "output_type": "execute_result",
          "execution_count": 133,
          "data": {
            "text/html": "<div>\n<style scoped>\n    .dataframe tbody tr th:only-of-type {\n        vertical-align: middle;\n    }\n\n    .dataframe tbody tr th {\n        vertical-align: top;\n    }\n\n    .dataframe thead th {\n        text-align: right;\n    }\n</style>\n<table border=\"1\" class=\"dataframe\">\n  <thead>\n    <tr style=\"text-align: right;\">\n      <th></th>\n      <th>rating</th>\n    </tr>\n    <tr>\n      <th>title</th>\n      <th></th>\n    </tr>\n  </thead>\n  <tbody>\n    <tr>\n      <th>'71 (2014)</th>\n      <td>4.000000</td>\n    </tr>\n    <tr>\n      <th>'Hellboy': The Seeds of Creation (2004)</th>\n      <td>4.000000</td>\n    </tr>\n    <tr>\n      <th>'Round Midnight (1986)</th>\n      <td>3.500000</td>\n    </tr>\n    <tr>\n      <th>'Salem's Lot (2004)</th>\n      <td>5.000000</td>\n    </tr>\n    <tr>\n      <th>'Til There Was You (1997)</th>\n      <td>4.000000</td>\n    </tr>\n    <tr>\n      <th>'Tis the Season for Love (2015)</th>\n      <td>1.500000</td>\n    </tr>\n    <tr>\n      <th>'burbs, The (1989)</th>\n      <td>3.176471</td>\n    </tr>\n    <tr>\n      <th>'night Mother (1986)</th>\n      <td>3.000000</td>\n    </tr>\n    <tr>\n      <th>(500) Days of Summer (2009)</th>\n      <td>3.666667</td>\n    </tr>\n    <tr>\n      <th>*batteries not included (1987)</th>\n      <td>3.285714</td>\n    </tr>\n  </tbody>\n</table>\n</div>",
            "text/plain": "                                           rating\ntitle                                            \n'71 (2014)                               4.000000\n'Hellboy': The Seeds of Creation (2004)  4.000000\n'Round Midnight (1986)                   3.500000\n'Salem's Lot (2004)                      5.000000\n'Til There Was You (1997)                4.000000\n'Tis the Season for Love (2015)          1.500000\n'burbs, The (1989)                       3.176471\n'night Mother (1986)                     3.000000\n(500) Days of Summer (2009)              3.666667\n*batteries not included (1987)           3.285714"
          },
          "metadata": {}
        }
      ],
      "execution_count": 133,
      "metadata": {},
      "id": "f3b578ec"
    },
    {
      "cell_type": "code",
      "source": [
        "plt.hist(Average_rating.rating, color='m')"
      ],
      "outputs": [
        {
          "output_type": "execute_result",
          "execution_count": 134,
          "data": {
            "text/plain": "(array([ 108.,  185.,  309.,  694.,  961., 1840., 2208., 2274.,  798.,\n         342.]),\n array([0.5 , 0.95, 1.4 , 1.85, 2.3 , 2.75, 3.2 , 3.65, 4.1 , 4.55, 5.  ]),\n <BarContainer object of 10 artists>)"
          },
          "metadata": {}
        },
        {
          "output_type": "display_data",
          "data": {
            "image/png": "[encoded data removed]",
            "text/plain": "<Figure size 432x288 with 1 Axes>"
          },
          "metadata": {
            "needs_background": "light"
          }
        }
      ],
      "execution_count": 134,
      "metadata": {},
      "id": "6263beef"
    },
    {
      "cell_type": "markdown",
      "source": [
        "### Number of reviews received by the movie"
      ],
      "metadata": {},
      "id": "b6fe6804"
    },
    {
      "cell_type": "code",
      "source": [
        "Average_rating['No_of_Reviews'] = ratings.groupby('title')['rating'].count()\n",
        "Average_rating.head(10)"
      ],
      "outputs": [
        {
          "output_type": "execute_result",
          "execution_count": 135,
          "data": {
            "text/html": "<div>\n<style scoped>\n    .dataframe tbody tr th:only-of-type {\n        vertical-align: middle;\n    }\n\n    .dataframe tbody tr th {\n        vertical-align: top;\n    }\n\n    .dataframe thead th {\n        text-align: right;\n    }\n</style>\n<table border=\"1\" class=\"dataframe\">\n  <thead>\n    <tr style=\"text-align: right;\">\n      <th></th>\n      <th>rating</th>\n      <th>No_of_Reviews</th>\n    </tr>\n    <tr>\n      <th>title</th>\n      <th></th>\n      <th></th>\n    </tr>\n  </thead>\n  <tbody>\n    <tr>\n      <th>'71 (2014)</th>\n      <td>4.000000</td>\n      <td>1</td>\n    </tr>\n    <tr>\n      <th>'Hellboy': The Seeds of Creation (2004)</th>\n      <td>4.000000</td>\n      <td>1</td>\n    </tr>\n    <tr>\n      <th>'Round Midnight (1986)</th>\n      <td>3.500000</td>\n      <td>2</td>\n    </tr>\n    <tr>\n      <th>'Salem's Lot (2004)</th>\n      <td>5.000000</td>\n      <td>1</td>\n    </tr>\n    <tr>\n      <th>'Til There Was You (1997)</th>\n      <td>4.000000</td>\n      <td>2</td>\n    </tr>\n    <tr>\n      <th>'Tis the Season for Love (2015)</th>\n      <td>1.500000</td>\n      <td>1</td>\n    </tr>\n    <tr>\n      <th>'burbs, The (1989)</th>\n      <td>3.176471</td>\n      <td>17</td>\n    </tr>\n    <tr>\n      <th>'night Mother (1986)</th>\n      <td>3.000000</td>\n      <td>1</td>\n    </tr>\n    <tr>\n      <th>(500) Days of Summer (2009)</th>\n      <td>3.666667</td>\n      <td>42</td>\n    </tr>\n    <tr>\n      <th>*batteries not included (1987)</th>\n      <td>3.285714</td>\n      <td>7</td>\n    </tr>\n  </tbody>\n</table>\n</div>",
            "text/plain": "                                           rating  No_of_Reviews\ntitle                                                           \n'71 (2014)                               4.000000              1\n'Hellboy': The Seeds of Creation (2004)  4.000000              1\n'Round Midnight (1986)                   3.500000              2\n'Salem's Lot (2004)                      5.000000              1\n'Til There Was You (1997)                4.000000              2\n'Tis the Season for Love (2015)          1.500000              1\n'burbs, The (1989)                       3.176471             17\n'night Mother (1986)                     3.000000              1\n(500) Days of Summer (2009)              3.666667             42\n*batteries not included (1987)           3.285714              7"
          },
          "metadata": {}
        }
      ],
      "execution_count": 135,
      "metadata": {},
      "id": "fc5733d4"
    },
    {
      "cell_type": "code",
      "source": [
        "plt.hist(Average_rating.No_of_Reviews, color='g')"
      ],
      "outputs": [
        {
          "output_type": "execute_result",
          "execution_count": 136,
          "data": {
            "text/plain": "(array([8.941e+03, 4.990e+02, 1.410e+02, 7.200e+01, 2.800e+01, 1.800e+01,\n        1.200e+01, 3.000e+00, 2.000e+00, 3.000e+00]),\n array([  1. ,  33.8,  66.6,  99.4, 132.2, 165. , 197.8, 230.6, 263.4,\n        296.2, 329. ]),\n <BarContainer object of 10 artists>)"
          },
          "metadata": {}
        },
        {
          "output_type": "display_data",
          "data": {
            "image/png": "[encoded data removed]",
            "text/plain": "<Figure size 432x288 with 1 Axes>"
          },
          "metadata": {
            "needs_background": "light"
          }
        }
      ],
      "execution_count": 136,
      "metadata": {
        "scrolled": true
      },
      "id": "368b55c7"
    },
    {
      "cell_type": "markdown",
      "source": [
        "### Finding out the number of reviews and the average rating received by each film"
      ],
      "metadata": {},
      "id": "7162b7a9"
    },
    {
      "cell_type": "code",
      "source": [
        "rating_by_movie = ratings.groupby('movieId').agg([np.size,np.mean])\n",
        "rating_by_movie = rating_by_movie.drop('userId',axis=1)\n",
        "rating_by_movie"
      ],
      "outputs": [
        {
          "output_type": "execute_result",
          "execution_count": 137,
          "data": {
            "text/html": "<div>\n<style scoped>\n    .dataframe tbody tr th:only-of-type {\n        vertical-align: middle;\n    }\n\n    .dataframe tbody tr th {\n        vertical-align: top;\n    }\n\n    .dataframe thead tr th {\n        text-align: left;\n    }\n\n    .dataframe thead tr:last-of-type th {\n        text-align: right;\n    }\n</style>\n<table border=\"1\" class=\"dataframe\">\n  <thead>\n    <tr>\n      <th></th>\n      <th colspan=\"2\" halign=\"left\">rating</th>\n    </tr>\n    <tr>\n      <th></th>\n      <th>size</th>\n      <th>mean</th>\n    </tr>\n    <tr>\n      <th>movieId</th>\n      <th></th>\n      <th></th>\n    </tr>\n  </thead>\n  <tbody>\n    <tr>\n      <th>1</th>\n      <td>215.0</td>\n      <td>3.920930</td>\n    </tr>\n    <tr>\n      <th>2</th>\n      <td>110.0</td>\n      <td>3.431818</td>\n    </tr>\n    <tr>\n      <th>3</th>\n      <td>52.0</td>\n      <td>3.259615</td>\n    </tr>\n    <tr>\n      <th>4</th>\n      <td>7.0</td>\n      <td>2.357143</td>\n    </tr>\n    <tr>\n      <th>5</th>\n      <td>49.0</td>\n      <td>3.071429</td>\n    </tr>\n    <tr>\n      <th>...</th>\n      <td>...</td>\n      <td>...</td>\n    </tr>\n    <tr>\n      <th>193581</th>\n      <td>1.0</td>\n      <td>4.000000</td>\n    </tr>\n    <tr>\n      <th>193583</th>\n      <td>1.0</td>\n      <td>3.500000</td>\n    </tr>\n    <tr>\n      <th>193585</th>\n      <td>1.0</td>\n      <td>3.500000</td>\n    </tr>\n    <tr>\n      <th>193587</th>\n      <td>1.0</td>\n      <td>3.500000</td>\n    </tr>\n    <tr>\n      <th>193609</th>\n      <td>1.0</td>\n      <td>4.000000</td>\n    </tr>\n  </tbody>\n</table>\n<p>9724 rows × 2 columns</p>\n</div>",
            "text/plain": "        rating          \n          size      mean\nmovieId                 \n1        215.0  3.920930\n2        110.0  3.431818\n3         52.0  3.259615\n4          7.0  2.357143\n5         49.0  3.071429\n...        ...       ...\n193581     1.0  4.000000\n193583     1.0  3.500000\n193585     1.0  3.500000\n193587     1.0  3.500000\n193609     1.0  4.000000\n\n[9724 rows x 2 columns]"
          },
          "metadata": {}
        }
      ],
      "execution_count": 137,
      "metadata": {},
      "id": "904fbcfb"
    },
    {
      "cell_type": "markdown",
      "source": [
        "### Listing out the movieIds with low ratings"
      ],
      "metadata": {},
      "id": "1ca85cc9"
    },
    {
      "cell_type": "code",
      "source": [
        "low_ratings = rating_by_movie['rating']['mean']<2\n",
        "low_ratings"
      ],
      "outputs": [
        {
          "output_type": "execute_result",
          "execution_count": 138,
          "data": {
            "text/plain": "movieId\n1         False\n2         False\n3         False\n4         False\n5         False\n          ...  \n193581    False\n193583    False\n193585    False\n193587    False\n193609    False\nName: mean, Length: 9724, dtype: bool"
          },
          "metadata": {}
        }
      ],
      "execution_count": 138,
      "metadata": {},
      "id": "66c4f3be"
    },
    {
      "cell_type": "code",
      "source": [
        "low_rating_data = rating_by_movie[low_ratings]\n",
        "low_rating_data"
      ],
      "outputs": [
        {
          "output_type": "execute_result",
          "execution_count": 139,
          "data": {
            "text/html": "<div>\n<style scoped>\n    .dataframe tbody tr th:only-of-type {\n        vertical-align: middle;\n    }\n\n    .dataframe tbody tr th {\n        vertical-align: top;\n    }\n\n    .dataframe thead tr th {\n        text-align: left;\n    }\n\n    .dataframe thead tr:last-of-type th {\n        text-align: right;\n    }\n</style>\n<table border=\"1\" class=\"dataframe\">\n  <thead>\n    <tr>\n      <th></th>\n      <th colspan=\"2\" halign=\"left\">rating</th>\n    </tr>\n    <tr>\n      <th></th>\n      <th>size</th>\n      <th>mean</th>\n    </tr>\n    <tr>\n      <th>movieId</th>\n      <th></th>\n      <th></th>\n    </tr>\n  </thead>\n  <tbody>\n    <tr>\n      <th>71</th>\n      <td>5.0</td>\n      <td>1.7</td>\n    </tr>\n    <tr>\n      <th>152</th>\n      <td>2.0</td>\n      <td>1.5</td>\n    </tr>\n    <tr>\n      <th>178</th>\n      <td>1.0</td>\n      <td>1.0</td>\n    </tr>\n    <tr>\n      <th>179</th>\n      <td>2.0</td>\n      <td>1.5</td>\n    </tr>\n    <tr>\n      <th>278</th>\n      <td>2.0</td>\n      <td>1.5</td>\n    </tr>\n    <tr>\n      <th>...</th>\n      <td>...</td>\n      <td>...</td>\n    </tr>\n    <tr>\n      <th>190207</th>\n      <td>1.0</td>\n      <td>1.5</td>\n    </tr>\n    <tr>\n      <th>190213</th>\n      <td>1.0</td>\n      <td>1.0</td>\n    </tr>\n    <tr>\n      <th>190215</th>\n      <td>1.0</td>\n      <td>1.5</td>\n    </tr>\n    <tr>\n      <th>190219</th>\n      <td>1.0</td>\n      <td>1.0</td>\n    </tr>\n    <tr>\n      <th>190221</th>\n      <td>1.0</td>\n      <td>1.0</td>\n    </tr>\n  </tbody>\n</table>\n<p>636 rows × 2 columns</p>\n</div>",
            "text/plain": "        rating     \n          size mean\nmovieId            \n71         5.0  1.7\n152        2.0  1.5\n178        1.0  1.0\n179        2.0  1.5\n278        2.0  1.5\n...        ...  ...\n190207     1.0  1.5\n190213     1.0  1.0\n190215     1.0  1.5\n190219     1.0  1.0\n190221     1.0  1.0\n\n[636 rows x 2 columns]"
          },
          "metadata": {}
        }
      ],
      "execution_count": 139,
      "metadata": {},
      "id": "c21e8ede"
    },
    {
      "cell_type": "markdown",
      "source": [
        "### Plotting the mean rating of first 20 films"
      ],
      "metadata": {},
      "id": "71bf2257"
    },
    {
      "cell_type": "code",
      "source": [
        "low_rating_data.head(20).plot(kind='bar', figsize=(7,5))"
      ],
      "outputs": [
        {
          "output_type": "execute_result",
          "execution_count": 140,
          "data": {
            "text/plain": "<AxesSubplot:xlabel='movieId'>"
          },
          "metadata": {}
        },
        {
          "output_type": "display_data",
          "data": {
            "image/png": "[encoded data removed]",
            "text/plain": "<Figure size 504x360 with 1 Axes>"
          },
          "metadata": {
            "needs_background": "light"
          }
        }
      ],
      "execution_count": 140,
      "metadata": {},
      "id": "8afee796"
    },
    {
      "cell_type": "markdown",
      "source": [
        "### Plotting the best mean rating by that particular movieId"
      ],
      "metadata": {},
      "id": "8e49171d"
    },
    {
      "cell_type": "code",
      "source": [
        "rating_by_movie['rating']['mean'].sort_values(ascending=False).head(10).plot(kind='bar', figsize=(7,6), color='k');"
      ],
      "outputs": [
        {
          "output_type": "display_data",
          "data": {
            "image/png": "[encoded data removed]",
            "text/plain": "<Figure size 504x432 with 1 Axes>"
          },
          "metadata": {
            "needs_background": "light"
          }
        }
      ],
      "execution_count": 141,
      "metadata": {},
      "id": "2a1f67fd"
    },
    {
      "cell_type": "markdown",
      "source": [
        "### MovieId vs UserId"
      ],
      "metadata": {},
      "id": "9734d43a"
    },
    {
      "cell_type": "code",
      "source": [
        "movie_user = ratings.pivot_table(index='movieId',columns='userId',values='rating')\n",
        "movie_user = movie_user.fillna(0)\n",
        "movie_user"
      ],
      "outputs": [
        {
          "output_type": "execute_result",
          "execution_count": 142,
          "data": {
            "text/html": "<div>\n<style scoped>\n    .dataframe tbody tr th:only-of-type {\n        vertical-align: middle;\n    }\n\n    .dataframe tbody tr th {\n        vertical-align: top;\n    }\n\n    .dataframe thead th {\n        text-align: right;\n    }\n</style>\n<table border=\"1\" class=\"dataframe\">\n  <thead>\n    <tr style=\"text-align: right;\">\n      <th>userId</th>\n      <th>1</th>\n      <th>2</th>\n      <th>3</th>\n      <th>4</th>\n      <th>5</th>\n      <th>6</th>\n      <th>7</th>\n      <th>8</th>\n      <th>9</th>\n      <th>10</th>\n      <th>...</th>\n      <th>601</th>\n      <th>602</th>\n      <th>603</th>\n      <th>604</th>\n      <th>605</th>\n      <th>606</th>\n      <th>607</th>\n      <th>608</th>\n      <th>609</th>\n      <th>610</th>\n    </tr>\n    <tr>\n      <th>movieId</th>\n      <th></th>\n      <th></th>\n      <th></th>\n      <th></th>\n      <th></th>\n      <th></th>\n      <th></th>\n      <th></th>\n      <th></th>\n      <th></th>\n      <th></th>\n      <th></th>\n      <th></th>\n      <th></th>\n      <th></th>\n      <th></th>\n      <th></th>\n      <th></th>\n      <th></th>\n      <th></th>\n      <th></th>\n    </tr>\n  </thead>\n  <tbody>\n    <tr>\n      <th>1</th>\n      <td>4.0</td>\n      <td>0.0</td>\n      <td>0.0</td>\n      <td>0.0</td>\n      <td>4.0</td>\n      <td>0.0</td>\n      <td>4.5</td>\n      <td>0.0</td>\n      <td>0.0</td>\n      <td>0.0</td>\n      <td>...</td>\n      <td>4.0</td>\n      <td>0.0</td>\n      <td>4.0</td>\n      <td>3.0</td>\n      <td>4.0</td>\n      <td>2.5</td>\n      <td>4.0</td>\n      <td>2.5</td>\n      <td>3.0</td>\n      <td>5.0</td>\n    </tr>\n    <tr>\n      <th>2</th>\n      <td>0.0</td>\n      <td>0.0</td>\n      <td>0.0</td>\n      <td>0.0</td>\n      <td>0.0</td>\n      <td>4.0</td>\n      <td>0.0</td>\n      <td>4.0</td>\n      <td>0.0</td>\n      <td>0.0</td>\n      <td>...</td>\n      <td>0.0</td>\n      <td>4.0</td>\n      <td>0.0</td>\n      <td>5.0</td>\n      <td>3.5</td>\n      <td>0.0</td>\n      <td>0.0</td>\n      <td>2.0</td>\n      <td>0.0</td>\n      <td>0.0</td>\n    </tr>\n    <tr>\n      <th>3</th>\n      <td>4.0</td>\n      <td>0.0</td>\n      <td>0.0</td>\n      <td>0.0</td>\n      <td>0.0</td>\n      <td>5.0</td>\n      <td>0.0</td>\n      <td>0.0</td>\n      <td>0.0</td>\n      <td>0.0</td>\n      <td>...</td>\n      <td>0.0</td>\n      <td>0.0</td>\n      <td>0.0</td>\n      <td>0.0</td>\n      <td>0.0</td>\n      <td>0.0</td>\n      <td>0.0</td>\n      <td>2.0</td>\n      <td>0.0</td>\n      <td>0.0</td>\n    </tr>\n    <tr>\n      <th>4</th>\n      <td>0.0</td>\n      <td>0.0</td>\n      <td>0.0</td>\n      <td>0.0</td>\n      <td>0.0</td>\n      <td>3.0</td>\n      <td>0.0</td>\n      <td>0.0</td>\n      <td>0.0</td>\n      <td>0.0</td>\n      <td>...</td>\n      <td>0.0</td>\n      <td>0.0</td>\n      <td>0.0</td>\n      <td>0.0</td>\n      <td>0.0</td>\n      <td>0.0</td>\n      <td>0.0</td>\n      <td>0.0</td>\n      <td>0.0</td>\n      <td>0.0</td>\n    </tr>\n    <tr>\n      <th>5</th>\n      <td>0.0</td>\n      <td>0.0</td>\n      <td>0.0</td>\n      <td>0.0</td>\n      <td>0.0</td>\n      <td>5.0</td>\n      <td>0.0</td>\n      <td>0.0</td>\n      <td>0.0</td>\n      <td>0.0</td>\n      <td>...</td>\n      <td>0.0</td>\n      <td>0.0</td>\n      <td>0.0</td>\n      <td>3.0</td>\n      <td>0.0</td>\n      <td>0.0</td>\n      <td>0.0</td>\n      <td>0.0</td>\n      <td>0.0</td>\n      <td>0.0</td>\n    </tr>\n    <tr>\n      <th>...</th>\n      <td>...</td>\n      <td>...</td>\n      <td>...</td>\n      <td>...</td>\n      <td>...</td>\n      <td>...</td>\n      <td>...</td>\n      <td>...</td>\n      <td>...</td>\n      <td>...</td>\n      <td>...</td>\n      <td>...</td>\n      <td>...</td>\n      <td>...</td>\n      <td>...</td>\n      <td>...</td>\n      <td>...</td>\n      <td>...</td>\n      <td>...</td>\n      <td>...</td>\n      <td>...</td>\n    </tr>\n    <tr>\n      <th>193581</th>\n      <td>0.0</td>\n      <td>0.0</td>\n      <td>0.0</td>\n      <td>0.0</td>\n      <td>0.0</td>\n      <td>0.0</td>\n      <td>0.0</td>\n      <td>0.0</td>\n      <td>0.0</td>\n      <td>0.0</td>\n      <td>...</td>\n      <td>0.0</td>\n      <td>0.0</td>\n      <td>0.0</td>\n      <td>0.0</td>\n      <td>0.0</td>\n      <td>0.0</td>\n      <td>0.0</td>\n      <td>0.0</td>\n      <td>0.0</td>\n      <td>0.0</td>\n    </tr>\n    <tr>\n      <th>193583</th>\n      <td>0.0</td>\n      <td>0.0</td>\n      <td>0.0</td>\n      <td>0.0</td>\n      <td>0.0</td>\n      <td>0.0</td>\n      <td>0.0</td>\n      <td>0.0</td>\n      <td>0.0</td>\n      <td>0.0</td>\n      <td>...</td>\n      <td>0.0</td>\n      <td>0.0</td>\n      <td>0.0</td>\n      <td>0.0</td>\n      <td>0.0</td>\n      <td>0.0</td>\n      <td>0.0</td>\n      <td>0.0</td>\n      <td>0.0</td>\n      <td>0.0</td>\n    </tr>\n    <tr>\n      <th>193585</th>\n      <td>0.0</td>\n      <td>0.0</td>\n      <td>0.0</td>\n      <td>0.0</td>\n      <td>0.0</td>\n      <td>0.0</td>\n      <td>0.0</td>\n      <td>0.0</td>\n      <td>0.0</td>\n      <td>0.0</td>\n      <td>...</td>\n      <td>0.0</td>\n      <td>0.0</td>\n      <td>0.0</td>\n      <td>0.0</td>\n      <td>0.0</td>\n      <td>0.0</td>\n      <td>0.0</td>\n      <td>0.0</td>\n      <td>0.0</td>\n      <td>0.0</td>\n    </tr>\n    <tr>\n      <th>193587</th>\n      <td>0.0</td>\n      <td>0.0</td>\n      <td>0.0</td>\n      <td>0.0</td>\n      <td>0.0</td>\n      <td>0.0</td>\n      <td>0.0</td>\n      <td>0.0</td>\n      <td>0.0</td>\n      <td>0.0</td>\n      <td>...</td>\n      <td>0.0</td>\n      <td>0.0</td>\n      <td>0.0</td>\n      <td>0.0</td>\n      <td>0.0</td>\n      <td>0.0</td>\n      <td>0.0</td>\n      <td>0.0</td>\n      <td>0.0</td>\n      <td>0.0</td>\n    </tr>\n    <tr>\n      <th>193609</th>\n      <td>0.0</td>\n      <td>0.0</td>\n      <td>0.0</td>\n      <td>0.0</td>\n      <td>0.0</td>\n      <td>0.0</td>\n      <td>0.0</td>\n      <td>0.0</td>\n      <td>0.0</td>\n      <td>0.0</td>\n      <td>...</td>\n      <td>0.0</td>\n      <td>0.0</td>\n      <td>0.0</td>\n      <td>0.0</td>\n      <td>0.0</td>\n      <td>0.0</td>\n      <td>0.0</td>\n      <td>0.0</td>\n      <td>0.0</td>\n      <td>0.0</td>\n    </tr>\n  </tbody>\n</table>\n<p>9724 rows × 610 columns</p>\n</div>",
            "text/plain": "userId   1    2    3    4    5    6    7    8    9    10   ...  601  602  603  \\\nmovieId                                                    ...                  \n1        4.0  0.0  0.0  0.0  4.0  0.0  4.5  0.0  0.0  0.0  ...  4.0  0.0  4.0   \n2        0.0  0.0  0.0  0.0  0.0  4.0  0.0  4.0  0.0  0.0  ...  0.0  4.0  0.0   \n3        4.0  0.0  0.0  0.0  0.0  5.0  0.0  0.0  0.0  0.0  ...  0.0  0.0  0.0   \n4        0.0  0.0  0.0  0.0  0.0  3.0  0.0  0.0  0.0  0.0  ...  0.0  0.0  0.0   \n5        0.0  0.0  0.0  0.0  0.0  5.0  0.0  0.0  0.0  0.0  ...  0.0  0.0  0.0   \n...      ...  ...  ...  ...  ...  ...  ...  ...  ...  ...  ...  ...  ...  ...   \n193581   0.0  0.0  0.0  0.0  0.0  0.0  0.0  0.0  0.0  0.0  ...  0.0  0.0  0.0   \n193583   0.0  0.0  0.0  0.0  0.0  0.0  0.0  0.0  0.0  0.0  ...  0.0  0.0  0.0   \n193585   0.0  0.0  0.0  0.0  0.0  0.0  0.0  0.0  0.0  0.0  ...  0.0  0.0  0.0   \n193587   0.0  0.0  0.0  0.0  0.0  0.0  0.0  0.0  0.0  0.0  ...  0.0  0.0  0.0   \n193609   0.0  0.0  0.0  0.0  0.0  0.0  0.0  0.0  0.0  0.0  ...  0.0  0.0  0.0   \n\nuserId   604  605  606  607  608  609  610  \nmovieId                                     \n1        3.0  4.0  2.5  4.0  2.5  3.0  5.0  \n2        5.0  3.5  0.0  0.0  2.0  0.0  0.0  \n3        0.0  0.0  0.0  0.0  2.0  0.0  0.0  \n4        0.0  0.0  0.0  0.0  0.0  0.0  0.0  \n5        3.0  0.0  0.0  0.0  0.0  0.0  0.0  \n...      ...  ...  ...  ...  ...  ...  ...  \n193581   0.0  0.0  0.0  0.0  0.0  0.0  0.0  \n193583   0.0  0.0  0.0  0.0  0.0  0.0  0.0  \n193585   0.0  0.0  0.0  0.0  0.0  0.0  0.0  \n193587   0.0  0.0  0.0  0.0  0.0  0.0  0.0  \n193609   0.0  0.0  0.0  0.0  0.0  0.0  0.0  \n\n[9724 rows x 610 columns]"
          },
          "metadata": {}
        }
      ],
      "execution_count": 142,
      "metadata": {},
      "id": "eac5127f"
    },
    {
      "cell_type": "markdown",
      "source": [
        "### Importing the KNN library from sklearn"
      ],
      "metadata": {},
      "id": "756ef09f"
    },
    {
      "cell_type": "code",
      "source": [
        "from sklearn.neighbors import NearestNeighbors"
      ],
      "outputs": [],
      "execution_count": 143,
      "metadata": {},
      "id": "88c595eb"
    },
    {
      "cell_type": "code",
      "source": [
        "knn = NearestNeighbors(metric='cosine', algorithm='brute')\n",
        "knn.fit(movie_user.values)\n",
        "distances, indices = knn.kneighbors(movie_user.values, n_neighbors=3)"
      ],
      "outputs": [],
      "execution_count": 144,
      "metadata": {},
      "id": "94ef2143"
    },
    {
      "cell_type": "code",
      "source": [
        "indices"
      ],
      "outputs": [
        {
          "output_type": "execute_result",
          "execution_count": 145,
          "data": {
            "text/plain": "array([[   0, 2353,  418],\n       [   1,  322,  436],\n       [   2, 2578,  607],\n       ...,\n       [8173, 8729, 9155],\n       [8173, 8729, 9155],\n       [9723, 9665, 9603]], dtype=int64)"
          },
          "metadata": {}
        }
      ],
      "execution_count": 145,
      "metadata": {},
      "id": "eab79351"
    },
    {
      "cell_type": "markdown",
      "source": [
        "### Distances between each pair"
      ],
      "metadata": {},
      "id": "f4ed1dec"
    },
    {
      "cell_type": "code",
      "source": [
        "distances"
      ],
      "outputs": [
        {
          "output_type": "execute_result",
          "execution_count": 146,
          "data": {
            "text/plain": "array([[3.33066907e-16, 4.27398740e-01, 4.34363196e-01],\n       [0.00000000e+00, 4.11562274e-01, 4.50181894e-01],\n       [1.11022302e-16, 5.52013240e-01, 5.53215549e-01],\n       ...,\n       [0.00000000e+00, 0.00000000e+00, 0.00000000e+00],\n       [0.00000000e+00, 0.00000000e+00, 0.00000000e+00],\n       [0.00000000e+00, 5.14034609e-01, 7.07491030e-01]])"
          },
          "metadata": {}
        }
      ],
      "execution_count": 146,
      "metadata": {
        "scrolled": true
      },
      "id": "72f87f24"
    },
    {
      "cell_type": "code",
      "source": [
        "ratings = pd.read_csv('ratings.csv', usecols=['userId','movieId','rating'])\n",
        "movies = pd.read_csv('movies.csv', usecols=['movieId','title'])\n",
        "ratings2 = pd.merge(ratings, movies, how='inner', on='movieId')"
      ],
      "outputs": [],
      "execution_count": 152,
      "metadata": {},
      "id": "0b618ed1"
    },
    {
      "cell_type": "markdown",
      "source": [
        "### Pivot table containing title and userId with ratings as value"
      ],
      "metadata": {},
      "id": "da1a45ca"
    },
    {
      "cell_type": "code",
      "source": [
        "df = ratings2.pivot_table(index='title',columns='userId',values='rating').fillna(0)\n",
        "df1 = df.copy()\n",
        "df1"
      ],
      "outputs": [
        {
          "output_type": "execute_result",
          "execution_count": 153,
          "data": {
            "text/html": "<div>\n<style scoped>\n    .dataframe tbody tr th:only-of-type {\n        vertical-align: middle;\n    }\n\n    .dataframe tbody tr th {\n        vertical-align: top;\n    }\n\n    .dataframe thead th {\n        text-align: right;\n    }\n</style>\n<table border=\"1\" class=\"dataframe\">\n  <thead>\n    <tr style=\"text-align: right;\">\n      <th>userId</th>\n      <th>1</th>\n      <th>2</th>\n      <th>3</th>\n      <th>4</th>\n      <th>5</th>\n      <th>6</th>\n      <th>7</th>\n      <th>8</th>\n      <th>9</th>\n      <th>10</th>\n      <th>...</th>\n      <th>601</th>\n      <th>602</th>\n      <th>603</th>\n      <th>604</th>\n      <th>605</th>\n      <th>606</th>\n      <th>607</th>\n      <th>608</th>\n      <th>609</th>\n      <th>610</th>\n    </tr>\n    <tr>\n      <th>title</th>\n      <th></th>\n      <th></th>\n      <th></th>\n      <th></th>\n      <th></th>\n      <th></th>\n      <th></th>\n      <th></th>\n      <th></th>\n      <th></th>\n      <th></th>\n      <th></th>\n      <th></th>\n      <th></th>\n      <th></th>\n      <th></th>\n      <th></th>\n      <th></th>\n      <th></th>\n      <th></th>\n      <th></th>\n    </tr>\n  </thead>\n  <tbody>\n    <tr>\n      <th>'71 (2014)</th>\n      <td>0.0</td>\n      <td>0.0</td>\n      <td>0.0</td>\n      <td>0.0</td>\n      <td>0.0</td>\n      <td>0.0</td>\n      <td>0.0</td>\n      <td>0.0</td>\n      <td>0.0</td>\n      <td>0.0</td>\n      <td>...</td>\n      <td>0.0</td>\n      <td>0.0</td>\n      <td>0.0</td>\n      <td>0.0</td>\n      <td>0.0</td>\n      <td>0.0</td>\n      <td>0.0</td>\n      <td>0.0</td>\n      <td>0.0</td>\n      <td>4.0</td>\n    </tr>\n    <tr>\n      <th>'Hellboy': The Seeds of Creation (2004)</th>\n      <td>0.0</td>\n      <td>0.0</td>\n      <td>0.0</td>\n      <td>0.0</td>\n      <td>0.0</td>\n      <td>0.0</td>\n      <td>0.0</td>\n      <td>0.0</td>\n      <td>0.0</td>\n      <td>0.0</td>\n      <td>...</td>\n      <td>0.0</td>\n      <td>0.0</td>\n      <td>0.0</td>\n      <td>0.0</td>\n      <td>0.0</td>\n      <td>0.0</td>\n      <td>0.0</td>\n      <td>0.0</td>\n      <td>0.0</td>\n      <td>0.0</td>\n    </tr>\n    <tr>\n      <th>'Round Midnight (1986)</th>\n      <td>0.0</td>\n      <td>0.0</td>\n      <td>0.0</td>\n      <td>0.0</td>\n      <td>0.0</td>\n      <td>0.0</td>\n      <td>0.0</td>\n      <td>0.0</td>\n      <td>0.0</td>\n      <td>0.0</td>\n      <td>...</td>\n      <td>0.0</td>\n      <td>0.0</td>\n      <td>0.0</td>\n      <td>0.0</td>\n      <td>0.0</td>\n      <td>0.0</td>\n      <td>0.0</td>\n      <td>0.0</td>\n      <td>0.0</td>\n      <td>0.0</td>\n    </tr>\n    <tr>\n      <th>'Salem's Lot (2004)</th>\n      <td>0.0</td>\n      <td>0.0</td>\n      <td>0.0</td>\n      <td>0.0</td>\n      <td>0.0</td>\n      <td>0.0</td>\n      <td>0.0</td>\n      <td>0.0</td>\n      <td>0.0</td>\n      <td>0.0</td>\n      <td>...</td>\n      <td>0.0</td>\n      <td>0.0</td>\n      <td>0.0</td>\n      <td>0.0</td>\n      <td>0.0</td>\n      <td>0.0</td>\n      <td>0.0</td>\n      <td>0.0</td>\n      <td>0.0</td>\n      <td>0.0</td>\n    </tr>\n    <tr>\n      <th>'Til There Was You (1997)</th>\n      <td>0.0</td>\n      <td>0.0</td>\n      <td>0.0</td>\n      <td>0.0</td>\n      <td>0.0</td>\n      <td>0.0</td>\n      <td>0.0</td>\n      <td>0.0</td>\n      <td>0.0</td>\n      <td>0.0</td>\n      <td>...</td>\n      <td>0.0</td>\n      <td>0.0</td>\n      <td>0.0</td>\n      <td>0.0</td>\n      <td>0.0</td>\n      <td>0.0</td>\n      <td>0.0</td>\n      <td>0.0</td>\n      <td>0.0</td>\n      <td>0.0</td>\n    </tr>\n    <tr>\n      <th>...</th>\n      <td>...</td>\n      <td>...</td>\n      <td>...</td>\n      <td>...</td>\n      <td>...</td>\n      <td>...</td>\n      <td>...</td>\n      <td>...</td>\n      <td>...</td>\n      <td>...</td>\n      <td>...</td>\n      <td>...</td>\n      <td>...</td>\n      <td>...</td>\n      <td>...</td>\n      <td>...</td>\n      <td>...</td>\n      <td>...</td>\n      <td>...</td>\n      <td>...</td>\n      <td>...</td>\n    </tr>\n    <tr>\n      <th>eXistenZ (1999)</th>\n      <td>0.0</td>\n      <td>0.0</td>\n      <td>0.0</td>\n      <td>0.0</td>\n      <td>0.0</td>\n      <td>0.0</td>\n      <td>0.0</td>\n      <td>0.0</td>\n      <td>0.0</td>\n      <td>0.0</td>\n      <td>...</td>\n      <td>0.0</td>\n      <td>0.0</td>\n      <td>5.0</td>\n      <td>0.0</td>\n      <td>0.0</td>\n      <td>0.0</td>\n      <td>0.0</td>\n      <td>4.5</td>\n      <td>0.0</td>\n      <td>0.0</td>\n    </tr>\n    <tr>\n      <th>xXx (2002)</th>\n      <td>0.0</td>\n      <td>0.0</td>\n      <td>0.0</td>\n      <td>0.0</td>\n      <td>0.0</td>\n      <td>0.0</td>\n      <td>0.0</td>\n      <td>0.0</td>\n      <td>1.0</td>\n      <td>0.0</td>\n      <td>...</td>\n      <td>0.0</td>\n      <td>0.0</td>\n      <td>0.0</td>\n      <td>0.0</td>\n      <td>0.0</td>\n      <td>0.0</td>\n      <td>0.0</td>\n      <td>3.5</td>\n      <td>0.0</td>\n      <td>2.0</td>\n    </tr>\n    <tr>\n      <th>xXx: State of the Union (2005)</th>\n      <td>0.0</td>\n      <td>0.0</td>\n      <td>0.0</td>\n      <td>0.0</td>\n      <td>0.0</td>\n      <td>0.0</td>\n      <td>0.0</td>\n      <td>0.0</td>\n      <td>0.0</td>\n      <td>0.0</td>\n      <td>...</td>\n      <td>0.0</td>\n      <td>0.0</td>\n      <td>0.0</td>\n      <td>0.0</td>\n      <td>0.0</td>\n      <td>0.0</td>\n      <td>0.0</td>\n      <td>0.0</td>\n      <td>0.0</td>\n      <td>1.5</td>\n    </tr>\n    <tr>\n      <th>¡Three Amigos! (1986)</th>\n      <td>4.0</td>\n      <td>0.0</td>\n      <td>0.0</td>\n      <td>0.0</td>\n      <td>0.0</td>\n      <td>0.0</td>\n      <td>0.0</td>\n      <td>0.0</td>\n      <td>0.0</td>\n      <td>0.0</td>\n      <td>...</td>\n      <td>0.0</td>\n      <td>0.0</td>\n      <td>0.0</td>\n      <td>0.0</td>\n      <td>0.0</td>\n      <td>0.0</td>\n      <td>0.0</td>\n      <td>0.0</td>\n      <td>0.0</td>\n      <td>0.0</td>\n    </tr>\n    <tr>\n      <th>À nous la liberté (Freedom for Us) (1931)</th>\n      <td>0.0</td>\n      <td>0.0</td>\n      <td>0.0</td>\n      <td>0.0</td>\n      <td>0.0</td>\n      <td>0.0</td>\n      <td>0.0</td>\n      <td>0.0</td>\n      <td>0.0</td>\n      <td>0.0</td>\n      <td>...</td>\n      <td>0.0</td>\n      <td>0.0</td>\n      <td>0.0</td>\n      <td>0.0</td>\n      <td>0.0</td>\n      <td>0.0</td>\n      <td>0.0</td>\n      <td>0.0</td>\n      <td>0.0</td>\n      <td>0.0</td>\n    </tr>\n  </tbody>\n</table>\n<p>9719 rows × 610 columns</p>\n</div>",
            "text/plain": "userId                                     1    2    3    4    5    6    7    \\\ntitle                                                                          \n'71 (2014)                                 0.0  0.0  0.0  0.0  0.0  0.0  0.0   \n'Hellboy': The Seeds of Creation (2004)    0.0  0.0  0.0  0.0  0.0  0.0  0.0   \n'Round Midnight (1986)                     0.0  0.0  0.0  0.0  0.0  0.0  0.0   \n'Salem's Lot (2004)                        0.0  0.0  0.0  0.0  0.0  0.0  0.0   \n'Til There Was You (1997)                  0.0  0.0  0.0  0.0  0.0  0.0  0.0   \n...                                        ...  ...  ...  ...  ...  ...  ...   \neXistenZ (1999)                            0.0  0.0  0.0  0.0  0.0  0.0  0.0   \nxXx (2002)                                 0.0  0.0  0.0  0.0  0.0  0.0  0.0   \nxXx: State of the Union (2005)             0.0  0.0  0.0  0.0  0.0  0.0  0.0   \n¡Three Amigos! (1986)                      4.0  0.0  0.0  0.0  0.0  0.0  0.0   \nÀ nous la liberté (Freedom for Us) (1931)  0.0  0.0  0.0  0.0  0.0  0.0  0.0   \n\nuserId                                     8    9    10   ...  601  602  603  \\\ntitle                                                     ...                  \n'71 (2014)                                 0.0  0.0  0.0  ...  0.0  0.0  0.0   \n'Hellboy': The Seeds of Creation (2004)    0.0  0.0  0.0  ...  0.0  0.0  0.0   \n'Round Midnight (1986)                     0.0  0.0  0.0  ...  0.0  0.0  0.0   \n'Salem's Lot (2004)                        0.0  0.0  0.0  ...  0.0  0.0  0.0   \n'Til There Was You (1997)                  0.0  0.0  0.0  ...  0.0  0.0  0.0   \n...                                        ...  ...  ...  ...  ...  ...  ...   \neXistenZ (1999)                            0.0  0.0  0.0  ...  0.0  0.0  5.0   \nxXx (2002)                                 0.0  1.0  0.0  ...  0.0  0.0  0.0   \nxXx: State of the Union (2005)             0.0  0.0  0.0  ...  0.0  0.0  0.0   \n¡Three Amigos! (1986)                      0.0  0.0  0.0  ...  0.0  0.0  0.0   \nÀ nous la liberté (Freedom for Us) (1931)  0.0  0.0  0.0  ...  0.0  0.0  0.0   \n\nuserId                                     604  605  606  607  608  609  610  \ntitle                                                                         \n'71 (2014)                                 0.0  0.0  0.0  0.0  0.0  0.0  4.0  \n'Hellboy': The Seeds of Creation (2004)    0.0  0.0  0.0  0.0  0.0  0.0  0.0  \n'Round Midnight (1986)                     0.0  0.0  0.0  0.0  0.0  0.0  0.0  \n'Salem's Lot (2004)                        0.0  0.0  0.0  0.0  0.0  0.0  0.0  \n'Til There Was You (1997)                  0.0  0.0  0.0  0.0  0.0  0.0  0.0  \n...                                        ...  ...  ...  ...  ...  ...  ...  \neXistenZ (1999)                            0.0  0.0  0.0  0.0  4.5  0.0  0.0  \nxXx (2002)                                 0.0  0.0  0.0  0.0  3.5  0.0  2.0  \nxXx: State of the Union (2005)             0.0  0.0  0.0  0.0  0.0  0.0  1.5  \n¡Three Amigos! (1986)                      0.0  0.0  0.0  0.0  0.0  0.0  0.0  \nÀ nous la liberté (Freedom for Us) (1931)  0.0  0.0  0.0  0.0  0.0  0.0  0.0  \n\n[9719 rows x 610 columns]"
          },
          "metadata": {}
        }
      ],
      "execution_count": 153,
      "metadata": {},
      "id": "624cd155"
    },
    {
      "cell_type": "markdown",
      "source": [
        "### Recommender System"
      ],
      "metadata": {},
      "id": "fa076c2f"
    },
    {
      "cell_type": "code",
      "source": [
        "def recommend_movies(user, num_recommended_movies):\n",
        "\n",
        "    print('The list of the Movies {} Has Watched \\n'.format(user))\n",
        "\n",
        "    for m in df[df[user] > 0][user].index.tolist():\n",
        "        print(m)\n",
        "  \n",
        "    print('\\n')\n",
        "\n",
        "    recommended_movies = []\n",
        "\n",
        "    for m in df[df[user] == 0].index.tolist():\n",
        "\n",
        "        index_df = df.index.tolist().index(m)\n",
        "        predicted_rating = df1.iloc[index_df, df1.columns.tolist().index(user)]\n",
        "        recommended_movies.append((m, predicted_rating))\n",
        "\n",
        "    sorted_rm = sorted(recommended_movies, key=lambda x:x[1], reverse=True)\n",
        "  \n",
        "    print('The list of the Recommended Movies \\n')\n",
        "    rank = 1\n",
        "    for recommended_movie in sorted_rm[:num_recommended_movies]:\n",
        "    \n",
        "        print('{}: {} - predicted rating:{}'.format(rank, recommended_movie[0], recommended_movie[1]))\n",
        "        rank = rank + 1"
      ],
      "outputs": [],
      "execution_count": 165,
      "metadata": {},
      "id": "962a0d95"
    },
    {
      "cell_type": "code",
      "source": [
        "def movie_recommender(user, num_neighbors, num_recommendation):\n",
        "  \n",
        "  number_neighbors = num_neighbors\n",
        "\n",
        "  knn = NearestNeighbors(metric='cosine', algorithm='brute')\n",
        "  knn.fit(df.values)\n",
        "  distances, indices = knn.kneighbors(df.values, n_neighbors=number_neighbors)\n",
        "\n",
        "  user_index = df.columns.tolist().index(user)\n",
        "\n",
        "  for m,t in list(enumerate(df.index)):\n",
        "    if df.iloc[m, user_index] == 0:\n",
        "      sim_movies = indices[m].tolist()\n",
        "      movie_distances = distances[m].tolist()\n",
        "    \n",
        "      if m in sim_movies:\n",
        "        id_movie = sim_movies.index(m)\n",
        "        sim_movies.remove(m)\n",
        "        movie_distances.pop(id_movie) \n",
        "\n",
        "      else:\n",
        "        sim_movies = sim_movies[:num_neighbors-1]\n",
        "        movie_distances = movie_distances[:num_neighbors-1]\n",
        "           \n",
        "      movie_similarity = [1-x for x in movie_distances]\n",
        "      movie_similarity_copy = movie_similarity.copy()\n",
        "      nominator = 0\n",
        "\n",
        "      for s in range(0, len(movie_similarity)):\n",
        "        if df.iloc[sim_movies[s], user_index] == 0:\n",
        "          if len(movie_similarity_copy) == (number_neighbors - 1):\n",
        "            movie_similarity_copy.pop(s)\n",
        "          \n",
        "          else:\n",
        "            movie_similarity_copy.pop(s-(len(movie_similarity)-len(movie_similarity_copy)))\n",
        "            \n",
        "        else:\n",
        "          nominator = nominator + movie_similarity[s]*df.iloc[sim_movies[s],user_index]\n",
        "          \n",
        "      if len(movie_similarity_copy) > 0:\n",
        "        if sum(movie_similarity_copy) > 0:\n",
        "          predicted_r = nominator/sum(movie_similarity_copy)\n",
        "        \n",
        "        else:\n",
        "          predicted_r = 0\n",
        "\n",
        "      else:\n",
        "        predicted_r = 0\n",
        "        \n",
        "      df1.iloc[m,user_index] = predicted_r\n",
        "  recommend_movies(user,num_recommendation)"
      ],
      "outputs": [],
      "execution_count": 166,
      "metadata": {},
      "id": "b6010849"
    },
    {
      "cell_type": "markdown",
      "source": [
        "### Evaluation of the system"
      ],
      "metadata": {},
      "id": "3023a6a0"
    },
    {
      "cell_type": "code",
      "source": [
        "movie_recommender(15, 10, 10)"
      ],
      "outputs": [
        {
          "output_type": "stream",
          "name": "stdout",
          "text": "The list of the Movies 15 Has Watched \n\n(500) Days of Summer (2009)\n10 Cloverfield Lane (2016)\n101 Dalmatians (One Hundred and One Dalmatians) (1961)\n28 Days Later (2002)\n9 (2009)\nA.I. Artificial Intelligence (2001)\nAdjustment Bureau, The (2011)\nAladdin (1992)\nAlien (1979)\nAliens (1986)\nAmerican Beauty (1999)\nAmerican History X (1998)\nAmerican Psycho (2000)\nApocalypto (2006)\nAvatar (2009)\nAvengers, The (2012)\nBack to the Future (1985)\nBack to the Future Part II (1989)\nBack to the Future Part III (1990)\nBeautiful Mind, A (2001)\nBicentennial Man (1999)\nBolt (2008)\nBridge of Spies (2015)\nCaptain America: The Winter Soldier (2014)\nCaptain Phillips (2013)\nCasper (1995)\nCast Away (2000)\nCatch Me If You Can (2002)\nChappie (2015)\nChildren of Men (2006)\nCloudy with a Chance of Meatballs (2009)\nDark Knight Rises, The (2012)\nDark Knight, The (2008)\nDeadpool (2016)\nDistrict 9 (2009)\nDjango Unchained (2012)\nDoctor Strange (2016)\nEdge of Tomorrow (2014)\nEscape from L.A. (1996)\nEx Machina (2015)\nFifth Element, The (1997)\nFight Club (1999)\nFinding Nemo (2003)\nFlintstones, The (1994)\nForrest Gump (1994)\nFrequency (2000)\nGattaca (1997)\nGladiator (2000)\nGodfather, The (1972)\nGods Must Be Crazy, The (1980)\nGone Girl (2014)\nGran Torino (2008)\nGrand Budapest Hotel, The (2014)\nGravity (2013)\nGreen Mile, The (1999)\nGroundhog Day (1993)\nGuardians of the Galaxy (2014)\nI Am Legend (2007)\nI, Robot (2004)\nInception (2010)\nIncredibles, The (2004)\nIndependence Day (a.k.a. ID4) (1996)\nInside Out (2015)\nInterstellar (2014)\nIron Man (2008)\nJohn Wick (2014)\nJohnny Mnemonic (1995)\nJunior (1994)\nKill Bill: Vol. 1 (2003)\nKill Bill: Vol. 2 (2004)\nLethal Weapon 2 (1989)\nLife of Pi (2012)\nLimitless (2011)\nLion King, The (1994)\nLittle Mermaid, The (1989)\nLooper (2012)\nLord of the Rings: The Fellowship of the Ring, The (2001)\nLord of the Rings: The Two Towers, The (2002)\nLéon: The Professional (a.k.a. The Professional) (Léon) (1994)\nMad Max: Fury Road (2015)\nMatrix, The (1999)\nMemento (2000)\nMinority Report (2002)\nMisery (1990)\nMonsters, Inc. (2001)\nMoon (2009)\nMortal Kombat (1995)\nMy Neighbor Totoro (Tonari no Totoro) (1988)\nNightmare on Elm Street, A (1984)\nOblivion (2013)\nOthers, The (2001)\nPassengers (2016)\nPatriot, The (2000)\nPinocchio (1940)\nPrestige, The (2006)\nPrometheus (2012)\nPulp Fiction (1994)\nRaiders of the Lost Ark (Indiana Jones and the Raiders of the Lost Ark) (1981)\nRatatouille (2007)\nRequiem for a Dream (2000)\nRoad Trip (2000)\nRogue One: A Star Wars Story (2016)\nRonin (1998)\nSausage Party (2016)\nSaving Private Ryan (1998)\nSchindler's List (1993)\nSeven (a.k.a. Se7en) (1995)\nShawshank Redemption, The (1994)\nShrek (2001)\nShrek 2 (2004)\nSixth Sense, The (1999)\nSource Code (2011)\nSpirited Away (Sen to Chihiro no kamikakushi) (2001)\nStar Wars: Episode III - Revenge of the Sith (2005)\nStar Wars: Episode IV - A New Hope (1977)\nStar Wars: Episode V - The Empire Strikes Back (1980)\nStar Wars: Episode VI - Return of the Jedi (1983)\nStar Wars: Episode VII - The Force Awakens (2015)\nSully (2016)\nTerminator 2: Judgment Day (1991)\nTerminator, The (1984)\nThe Butterfly Effect (2004)\nThe Hunger Games (2012)\nThe Martian (2015)\nTotal Recall (1990)\nToy Story (1995)\nU-571 (2000)\nUnbreakable (2000)\nUp (2009)\nWALL·E (2008)\nWhat Women Want (2000)\nWorld War Z (2013)\nX-Files: Fight the Future, The (1998)\nX-Men: Apocalypse (2016)\nZootopia (2016)\n\n\nThe list of the Recommended Movies \n\n1: Army of Darkness (1993) - predicted rating:5.000000000000001\n2: Dead Poets Society (1989) - predicted rating:5.000000000000001\n3: Finding Forrester (2000) - predicted rating:5.000000000000001\n4: Home Alone 2: Lost in New York (1992) - predicted rating:5.000000000000001\n5: Jaws (1975) - predicted rating:5.000000000000001\n6: Master and Commander: The Far Side of the World (2003) - predicted rating:5.000000000000001\n7: Thank You for Smoking (2006) - predicted rating:5.000000000000001\n8: 2001: A Space Odyssey (1968) - predicted rating:5.0\n9: Beverly Hills Cop (1984) - predicted rating:5.0\n10: Blood Diamond (2006) - predicted rating:5.0\n"
        }
      ],
      "execution_count": 167,
      "metadata": {},
      "id": "c11c5db4"
    },
    {
      "cell_type": "markdown",
      "source": [
        "### So, for the given input for the user, we got the top 10 recommendations."
      ],
      "metadata": {},
      "id": "ec416957"
    }
  ],
  "metadata": {
    "kernelspec": {
      "display_name": "Python 3",
      "language": "python",
      "name": "python3"
    },
    "language_info": {
      "codemirror_mode": {
        "name": "ipython",
        "version": 3
      },
      "file_extension": ".py",
      "mimetype": "text/x-python",
      "name": "python",
      "nbconvert_exporter": "python",
      "pygments_lexer": "ipython3",
      "version": "3.8.8"
    },
    "nteract": {
      "version": "nteract-front-end@1.0.0"
    }
  },
  "nbformat": 4,
  "nbformat_minor": 5
}